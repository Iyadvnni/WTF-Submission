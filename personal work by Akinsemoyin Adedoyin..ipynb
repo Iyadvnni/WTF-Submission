{
 "cells": [
  {
   "cell_type": "markdown",
   "id": "ac0cfbdd",
   "metadata": {},
   "source": [
    "# Personal work 1"
   ]
  },
  {
   "cell_type": "code",
   "execution_count": 1,
   "id": "70ff56f4",
   "metadata": {},
   "outputs": [],
   "source": [
    "#1.Print all elements of a list using for loop."
   ]
  },
  {
   "cell_type": "code",
   "execution_count": 2,
   "id": "fc681cb4",
   "metadata": {},
   "outputs": [
    {
     "name": "stdout",
     "output_type": "stream",
     "text": [
      "[1, 2, 3, 4, 5, 6, 7, 8, 9]\n"
     ]
    }
   ],
   "source": [
    "Dlist = [1,2,3,4,5,6,7,8,9]\n",
    "print (Dlist)"
   ]
  },
  {
   "cell_type": "code",
   "execution_count": 4,
   "id": "d96b9550",
   "metadata": {
    "scrolled": true
   },
   "outputs": [
    {
     "name": "stdout",
     "output_type": "stream",
     "text": [
      "1\n",
      "2\n",
      "3\n",
      "4\n",
      "5\n",
      "6\n",
      "7\n",
      "8\n",
      "9\n"
     ]
    }
   ],
   "source": [
    "for x in Dlist:\n",
    "    print (x)"
   ]
  },
  {
   "cell_type": "code",
   "execution_count": 9,
   "id": "ed52bc30",
   "metadata": {},
   "outputs": [],
   "source": [
    "#2. A company decided to give bonus of 5% to employee if his/her year of service is more than 5 years. Ask user for their salary and year of service and print the net bonus amount."
   ]
  },
  {
   "cell_type": "code",
   "execution_count": 10,
   "id": "fb421746",
   "metadata": {},
   "outputs": [
    {
     "name": "stdout",
     "output_type": "stream",
     "text": [
      "Enter your salary = 1000\n",
      "Enter your year of service = 7\n",
      "Your Net bonus is 50.0\n"
     ]
    }
   ],
   "source": [
    "salary = int(input(\"Enter your salary = \"))\n",
    "\n",
    "year = int(input(\"Enter your year of service = \"))\n",
    "\n",
    "if year>5:\n",
    "\n",
    "   print(\"Your Net bonus is\",0.05*salary)"
   ]
  },
  {
   "cell_type": "code",
   "execution_count": 11,
   "id": "a08cfa79",
   "metadata": {},
   "outputs": [],
   "source": [
    "# Take input of age of 3 people by user and determine oldest and youngest among them."
   ]
  },
  {
   "cell_type": "code",
   "execution_count": 12,
   "id": "1640d40c",
   "metadata": {},
   "outputs": [
    {
     "name": "stdout",
     "output_type": "stream",
     "text": [
      "Enter age for A: 5\n",
      "Enter age for B: 10\n",
      "Enter age for C: 15\n",
      "person 1 is the youngest\n",
      "person 3 is the oldest\n"
     ]
    }
   ],
   "source": [
    "age1 = int(input(\"Enter age for A: \"))\n",
    "age2 = int(input(\"Enter age for B: \"))\n",
    "age3 = int(input(\"Enter age for C: \"))\n",
    "d = [age1, age2, age3]\n",
    "minimum = min (age1, age2,age3)\n",
    "maximum = max (age1, age2, age3)\n",
    "print(\"person \" + str(d.index(minimum) + 1)+ \" is the youngest\") \n",
    "print(\"person \" + str(d.index(maximum) + 1)+ \" is the oldest\")"
   ]
  },
  {
   "cell_type": "code",
   "execution_count": 13,
   "id": "7bf17b14",
   "metadata": {},
   "outputs": [],
   "source": [
    "#A school has following rules for grading system: \n",
    "#a. Below 25 - F \n",
    "#b. 25 to 45 - E \n",
    "#c. 45 to 50 - D \n",
    "#d. 50 to 60 - C \n",
    "#e. 60 to 80 - B \n",
    "#f. Above 80 - A \n",
    "#5) Ask user to enter marks and print the corresponding grade."
   ]
  },
  {
   "cell_type": "code",
   "execution_count": 14,
   "id": "a05ff56c",
   "metadata": {},
   "outputs": [
    {
     "name": "stdout",
     "output_type": "stream",
     "text": [
      "Enter marks\n",
      "95\n",
      "A\n"
     ]
    }
   ],
   "source": [
    "print (\"Enter marks\")\n",
    "marks = int(input ())\n",
    "if (marks <= 25) :\n",
    "    print (\"F\")\n",
    "elif (marks >= 25 and marks <45):\n",
    "    print (\"E\")\n",
    "elif ( marks >= 45 and marks <50):\n",
    "    print (\"D\")\n",
    "elif (marks >= 50 and marks <60):\n",
    "    print (\"C\")\n",
    "elif (marks >= 60 and marks <80):\n",
    "    print (\"B\")\n",
    "else:\n",
    "    print (\"A\")"
   ]
  },
  {
   "cell_type": "code",
   "execution_count": 15,
   "id": "54bbad93",
   "metadata": {},
   "outputs": [],
   "source": [
    "#6. Write a Python script to merge two Python dictionaries"
   ]
  },
  {
   "cell_type": "code",
   "execution_count": 18,
   "id": "446c66bb",
   "metadata": {},
   "outputs": [
    {
     "name": "stdout",
     "output_type": "stream",
     "text": [
      "<class 'dict'>\n",
      "{'Akin': 'orange', 'Doyin': 'Black', 'Yusuf': 'white', 'Ola': 'Blue', 'Ayo': 'Green'}\n"
     ]
    }
   ],
   "source": [
    "d1= {\"Akin\":\"orange\", \"Doyin\": \"Black\", \"Yusuf\": \"white\"}\n",
    "print (type(d1))\n",
    "d2= {\"Ola\" : \"Blue\", \"Ayo\" : \"Green\"}\n",
    "d = d1.copy()\n",
    "d.update(d2)\n",
    "\n",
    "print(d)"
   ]
  },
  {
   "cell_type": "code",
   "execution_count": 22,
   "id": "3c9fee55",
   "metadata": {},
   "outputs": [],
   "source": [
    "#7.Write a python program to get the largest number from a list"
   ]
  },
  {
   "cell_type": "code",
   "execution_count": 23,
   "id": "f44b72b4",
   "metadata": {},
   "outputs": [
    {
     "name": "stdout",
     "output_type": "stream",
     "text": [
      "20\n"
     ]
    }
   ],
   "source": [
    "list = [1,2,4,5,6,7,10,20]\n",
    "maximum = max (list)\n",
    "print (maximum)"
   ]
  },
  {
   "cell_type": "code",
   "execution_count": 24,
   "id": "e1bbc0f0",
   "metadata": {},
   "outputs": [],
   "source": [
    "#8.Write a python program to remove a key from a dictionary"
   ]
  },
  {
   "cell_type": "code",
   "execution_count": 21,
   "id": "96d554a2",
   "metadata": {},
   "outputs": [
    {
     "name": "stdout",
     "output_type": "stream",
     "text": [
      "{'Akin': 'orange', 'Doyin': 'Black', 'Yusuf': 'white'}\n",
      "{'Doyin': 'Black', 'Yusuf': 'white'}\n"
     ]
    }
   ],
   "source": [
    "d1={\"Akin\":\"orange\", \"Doyin\": \"Black\", \"Yusuf\": \"white\"}\n",
    "print (d1)\n",
    "if \"Akin\" in d1:\n",
    "    del d1 [\"Akin\"]\n",
    "    print (d1)"
   ]
  },
  {
   "cell_type": "code",
   "execution_count": null,
   "id": "9aeb8060",
   "metadata": {},
   "outputs": [],
   "source": []
  }
 ],
 "metadata": {
  "kernelspec": {
   "display_name": "Python 3 (ipykernel)",
   "language": "python",
   "name": "python3"
  },
  "language_info": {
   "codemirror_mode": {
    "name": "ipython",
    "version": 3
   },
   "file_extension": ".py",
   "mimetype": "text/x-python",
   "name": "python",
   "nbconvert_exporter": "python",
   "pygments_lexer": "ipython3",
   "version": "3.9.12"
  }
 },
 "nbformat": 4,
 "nbformat_minor": 5
}
